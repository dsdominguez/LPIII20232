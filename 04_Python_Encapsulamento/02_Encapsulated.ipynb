{
 "cells": [
  {
   "cell_type": "code",
   "execution_count": 1,
   "id": "e4afb739",
   "metadata": {},
   "outputs": [],
   "source": [
    "class Cat:\n",
    "    def __init__(self):\n",
    "        self.__name = \"\"\n",
    "        self.__age = 0\n",
    "        \n",
    "    @property\n",
    "    def name(self):\n",
    "        print(\"Inside a getter\")\n",
    "        return self.__name\n",
    "    \n",
    "    @property\n",
    "    def age(self):\n",
    "        return self.__age\n",
    "    \n",
    "    @name.setter\n",
    "    def name(self, str1):\n",
    "        print(\"Inside a setter\")\n",
    "        self.__name = str1\n",
    "    \n",
    "    @age.setter\n",
    "    def age(self, ageParam):\n",
    "        if self.__validateAge(ageParam):\n",
    "            self.__age = ageParam    \n",
    "        \n",
    "    def __validateAge(self, ageParam):\n",
    "        if(ageParam < 0):\n",
    "            #raise ValueError(\"Invalid age!!!\")\n",
    "            print(\"Invalid age!!!\")\n",
    "        else:    \n",
    "            return True    \n",
    "        \n",
    "    def info(self):\n",
    "        print(f\"I am a cat. My name is {self.__name}. I am {self.__age} years old.\")\n",
    "        \n",
    "    def makeSound(self):\n",
    "        print(\"Meow\")"
   ]
  },
  {
   "cell_type": "code",
   "execution_count": 2,
   "id": "119c4127",
   "metadata": {},
   "outputs": [
    {
     "name": "stdout",
     "output_type": "stream",
     "text": [
      "Inside a setter\n",
      "I am a cat. My name is Kayla. I am 2 years old.\n",
      "Meow\n",
      "Inside a getter\n",
      "Kayla\n"
     ]
    }
   ],
   "source": [
    "cat1 = Cat()\n",
    "cat1.name = 'Kayla'\n",
    "cat1.age = 2\n",
    "cat1.info()\n",
    "cat1.makeSound()\n",
    "#print(cat1.__name)\n",
    "print(cat1.name)"
   ]
  },
  {
   "cell_type": "code",
   "execution_count": 4,
   "id": "6d3d2cc5",
   "metadata": {},
   "outputs": [
    {
     "name": "stdout",
     "output_type": "stream",
     "text": [
      "Inside a setter\n",
      "Invalid age!!!\n",
      "I am a cat. My name is Raschid. I am 0 years old.\n"
     ]
    }
   ],
   "source": [
    "cat2 = Cat()\n",
    "cat2.name = 'Raschid'\n",
    "cat2.age = -2\n",
    "cat2.info()"
   ]
  }
 ],
 "metadata": {
  "kernelspec": {
   "display_name": "Python 3 (ipykernel)",
   "language": "python",
   "name": "python3"
  },
  "language_info": {
   "codemirror_mode": {
    "name": "ipython",
    "version": 3
   },
   "file_extension": ".py",
   "mimetype": "text/x-python",
   "name": "python",
   "nbconvert_exporter": "python",
   "pygments_lexer": "ipython3",
   "version": "3.9.13"
  }
 },
 "nbformat": 4,
 "nbformat_minor": 5
}
